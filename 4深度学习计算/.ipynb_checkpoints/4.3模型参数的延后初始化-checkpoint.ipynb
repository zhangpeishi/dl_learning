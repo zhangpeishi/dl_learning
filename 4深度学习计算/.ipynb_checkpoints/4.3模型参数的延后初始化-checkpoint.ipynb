{
 "cells": [
  {
   "cell_type": "markdown",
   "metadata": {},
   "source": []
  },
  {
   "cell_type": "markdown",
   "metadata": {},
   "source": [
    "#### 由于使用Gluon创建的全连接层的时候不需要指定输入个数。所以当调用initialize函数时，由于隐藏层输入个数依然未知，系统也无法得知该层权重参数的形状。只有在当形状已知的输入X传进网络做前向计算net(X)时，系统才推断出该层的权重参数形状为多少，此时才进行真正的初始化操作。但是使用pytorch在定义模型的时候就要指定输入的形状，所以也就不存在这个问题了"
   ]
  }
 ],
 "metadata": {
  "kernelspec": {
   "display_name": "Python 3",
   "language": "python",
   "name": "python3"
  },
  "language_info": {
   "codemirror_mode": {
    "name": "ipython",
    "version": 3
   },
   "file_extension": ".py",
   "mimetype": "text/x-python",
   "name": "python",
   "nbconvert_exporter": "python",
   "pygments_lexer": "ipython3",
   "version": "3.8.3"
  }
 },
 "nbformat": 4,
 "nbformat_minor": 4
}
