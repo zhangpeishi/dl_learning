{
 "cells": [
  {
   "cell_type": "markdown",
   "metadata": {},
   "source": [
    "#### 前边介绍的回归模型适用于输出为连续值的情景，在另一情景中，模型输出可以是一个像图像类别这样的离散值。对于这样的离散值的预测问题，我们可以使用诸如softmax回归在内的分类模型。和线性回归不同，softmax回归的输出单元从一个变成了多个，且引入了softmax运算使得输出更适合离散值的预测和训练。"
   ]
  },
  {
   "cell_type": "markdown",
   "metadata": {},
   "source": [
    "### 分类问题"
   ]
  },
  {
   "cell_type": "markdown",
   "metadata": {},
   "source": [
    "#### 一个简单的图像分类问题，其输入图像的高和宽均为2像素，且色彩为灰度。这样每个像素值都可以用一个标量表示。我们将图像中的4像素分别记为x1,x2,x3,x4。假设训练数据集中的图像的真实标签为狗，猫或鸡，这些标签分别对应离散值y1,y2,y3.我们通常使用离散的数值来表示类别。例如y1=1,y2=2,y3=3如此，一张图像的标签为1，2，3中的一个，虽然我们仍然可以使用回归模型来建模，并将预测值就近定化到1，2，3这三个离散值之一，但是这种连续值到离散值的转化通常会影响到分类质量，因此我们一般更加适合离散值输出的模型来解决分类问题"
   ]
  },
  {
   "cell_type": "markdown",
   "metadata": {},
   "source": [
    "### softmax回归模型"
   ]
  },
  {
   "cell_type": "markdown",
   "metadata": {},
   "source": [
    "#### softmax回归跟线性回归一样将输入特征与权重做线性叠加，与线性回归的一个主要不同在于，softmax回归的输出值个数等于标签里的类别数，因为一共有4种特征和3种输出动物类别，所以权重包含12个标量 偏差包含3个标量，且对每个输入计算o1,o2,o3这三个输出\n",
    "#### o1 = x1w11 + x2w21 + x3w31 + b1\n",
    "#### o2 = x1w12 + x2w22 + x3w32 + b2\n",
    "#### o1 = x1w13 + x2w23 + x3w33 + b3"
   ]
  },
  {
   "cell_type": "markdown",
   "metadata": {},
   "source": [
    "#### softmax回归同线性回归一样，也是一个单层神经网络，由于每个输出o1,o2,o3的计算都要依赖于所有的输入x1,x2,x3,x4 softmax回归的输出层也是一个全连接层"
   ]
  },
  {
   "cell_type": "markdown",
   "metadata": {},
   "source": [
    "#### 既然分类问题需要得到离散的预测输出，一个简单的办法是将输出值oi当做预测类是i的置信度，并将值最大的输出所对应的类作为预测输出，即输出argmaxoi 如果o1，o2,o3分别为0.1，10，0.1由于o2最大 那么预测类别为2 其代表为猫 然而 直接使用输出层的输出有两个问题 一方面，由于输出层的输出值的范围不确定 我们难以直观上判断这些值的意义 例如输出值10表示很置信图像类别为猫 因为该输出值是其他两类的输出值的100倍 但如果o1=o3 = 10^3 那么输出值10却又表示图像类别为猫的概率很低。另一方面由于真实标签是离散值 这些离散值与不确定范围的输出值之间的误差难以衡量\n",
    "\n",
    "#### softmax运算符 解决了以上两个问题 它通过下列式子将输出值变换成值为正且和为1的概率分布"
   ]
  },
  {
   "cell_type": "markdown",
   "metadata": {},
   "source": [
    "### 单样本分类的矢量计算表达式"
   ]
  },
  {
   "cell_type": "markdown",
   "metadata": {},
   "source": [
    "#### 为了提高计算效率，我们可以将单样本分类通过矢量计算来表达。在上面的图像分类问题中，假设softmax回归的权重和偏差参数分别为"
   ]
  },
  {
   "cell_type": "code",
   "execution_count": null,
   "metadata": {},
   "outputs": [],
   "source": []
  }
 ],
 "metadata": {
  "kernelspec": {
   "display_name": "Python 3",
   "language": "python",
   "name": "python3"
  },
  "language_info": {
   "codemirror_mode": {
    "name": "ipython",
    "version": 3
   },
   "file_extension": ".py",
   "mimetype": "text/x-python",
   "name": "python",
   "nbconvert_exporter": "python",
   "pygments_lexer": "ipython3",
   "version": "3.8.3"
  }
 },
 "nbformat": 4,
 "nbformat_minor": 4
}
