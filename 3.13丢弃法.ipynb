{
 "cells": [
  {
   "cell_type": "markdown",
   "metadata": {},
   "source": [
    "### 从零开始实现"
   ]
  },
  {
   "cell_type": "markdown",
   "metadata": {},
   "source": [
    "#### 根据丢弃法的定义，我们很容易实现它。下面的dropout函数将以drop_prob的概率丢弃X中的元素"
   ]
  },
  {
   "cell_type": "code",
   "execution_count": 1,
   "metadata": {},
   "outputs": [],
   "source": [
    "import torch\n",
    "import torch.nn as nn\n",
    "import numpy as np\n",
    "import d2lzh_pytorch as d2l\n",
    "\n",
    "def dropout(X,drop_prob):\n",
    "    X = X.float()\n",
    "    assert 0 <= drop_prob <=1\n",
    "    keep_prob = 1 - drop_prob\n",
    "    #这种情况下把全部元素丢弃\n",
    "    if keep_prob == 0:\n",
    "        return torch.zeros_like(X)\n",
    "    mask = (torch.rand(X.shape) < keep_prob).float()\n",
    "    return mask * X / keep_prob"
   ]
  },
  {
   "cell_type": "markdown",
   "metadata": {},
   "source": [
    "#### 我们运行几个例子来测试一下dropout 函数。其中丢弃概率分别为0，0.5 和1"
   ]
  },
  {
   "cell_type": "code",
   "execution_count": 2,
   "metadata": {},
   "outputs": [
    {
     "data": {
      "text/plain": [
       "tensor([[ 0.,  1.,  2.,  3.,  4.,  5.,  6.,  7.],\n",
       "        [ 8.,  9., 10., 11., 12., 13., 14., 15.]])"
      ]
     },
     "execution_count": 2,
     "metadata": {},
     "output_type": "execute_result"
    }
   ],
   "source": [
    "X = torch.arange(16).view(2,8)\n",
    "dropout(X,0)\n"
   ]
  },
  {
   "cell_type": "code",
   "execution_count": 20,
   "metadata": {},
   "outputs": [
    {
     "data": {
      "text/plain": [
       "tensor([[ 0.,  0.,  0.,  6.,  8.,  0.,  0., 14.],\n",
       "        [ 0.,  0.,  0., 22.,  0.,  0.,  0.,  0.]])"
      ]
     },
     "execution_count": 20,
     "metadata": {},
     "output_type": "execute_result"
    }
   ],
   "source": [
    "dropout(X,0.5)"
   ]
  },
  {
   "cell_type": "code",
   "execution_count": 17,
   "metadata": {},
   "outputs": [
    {
     "data": {
      "text/plain": [
       "tensor([[0., 0., 0., 0., 0., 0., 0., 0.],\n",
       "        [0., 0., 0., 0., 0., 0., 0., 0.]])"
      ]
     },
     "execution_count": 17,
     "metadata": {},
     "output_type": "execute_result"
    }
   ],
   "source": [
    "dropout(X,1.0)"
   ]
  },
  {
   "cell_type": "markdown",
   "metadata": {},
   "source": [
    "### 定义模型"
   ]
  },
  {
   "cell_type": "markdown",
   "metadata": {},
   "source": [
    "#### 下定义的模型将全连接层和激活函数relu串起来，并对每个激活函数的输出使用丢弃法。我们可以分别设置各个层的丢弃概率。通常的建议是把靠近输入层的丢弃概率设置的小一点，在这个实验中，我们把第一个隐藏层的丢弃概率设置为0.2把第二个"
   ]
  },
  {
   "cell_type": "code",
   "execution_count": 23,
   "metadata": {},
   "outputs": [
    {
     "name": "stdout",
     "output_type": "stream",
     "text": [
      "tensor([[False, False, False, False, False, False, False, False],\n",
      "        [False, False, False, False, False, False, False, False]])\n"
     ]
    }
   ],
   "source": [
    "x = (torch.rand(2,8) < 0.1)\n",
    "print(x)"
   ]
  },
  {
   "cell_type": "code",
   "execution_count": 27,
   "metadata": {},
   "outputs": [
    {
     "name": "stdout",
     "output_type": "stream",
     "text": [
      "tensor([[1., 1., 1., 1., 1., 0., 1., 0.],\n",
      "        [0., 1., 0., 1., 1., 0., 0., 1.]])\n"
     ]
    }
   ],
   "source": [
    "x = (torch.rand(2,8) < 0.5).float()\n",
    "print(x)"
   ]
  },
  {
   "cell_type": "code",
   "execution_count": 3,
   "metadata": {},
   "outputs": [],
   "source": [
    "num_inputs,num_outputs,num_hiddens1,num_hiddens2 = 784,10,256,256\n",
    "\n",
    "W1 = torch.tensor(np.random.normal(0,0.01,size = (num_inputs,num_hiddens1)),dtype = torch.float,requires_grad = True)\n",
    "b1 = torch.zeros(num_hiddens1,requires_grad = True)\n",
    "W2 = torch.tensor(np.random.normal(0,0.01,size = (num_hiddens1,num_hiddens2)),dtype = torch.float,requires_grad = True)\n",
    "b2 = torch.zeros(num_hiddens2,requires_grad = True)\n",
    "W3 = torch.tensor(np.random.normal(0,0.01,size = (num_hiddens2,num_outputs)),dtype = torch.float,requires_grad = True)\n",
    "b3 = torch.zeros(num_outputs,requires_grad = True)"
   ]
  },
  {
   "cell_type": "code",
   "execution_count": 5,
   "metadata": {},
   "outputs": [],
   "source": [
    "params = [W1,b1,W2,b2,W3,b3]"
   ]
  },
  {
   "cell_type": "code",
   "execution_count": 6,
   "metadata": {},
   "outputs": [],
   "source": [
    "drop_prob1,drop_prob2 = 0.2,0.5\n",
    "\n",
    "def net(X,is_training = True):\n",
    "    X = X.view(-1,num_inputs)\n",
    "    H1 = (torch.matmul(X,W1) + b1).relu()\n",
    "    if is_training:    #只在训练模型时使用丢弃法\n",
    "        H1 = dropout(H1,drop_prob1)\n",
    "    H2 = (torch.matmul(H1,W2) +b2).relu()\n",
    "    if is_training:\n",
    "        H2 = dropout(H2,drop_prob2)\n",
    "    return torch.matmul(H2,W3) + b3\n",
    "    "
   ]
  },
  {
   "cell_type": "markdown",
   "metadata": {},
   "source": [
    "#### 我们在对模型评估的时候不应该进行丢弃，所以我们修改一下d2lzh_pytorch中的evaluate_accuracy函数:"
   ]
  },
  {
   "cell_type": "markdown",
   "metadata": {},
   "source": [
    "### 训练和测试模型"
   ]
  },
  {
   "cell_type": "markdown",
   "metadata": {},
   "source": [
    "#### 这部分与之前多层感知机的训练和测试类似"
   ]
  },
  {
   "cell_type": "code",
   "execution_count": 7,
   "metadata": {},
   "outputs": [
    {
     "name": "stdout",
     "output_type": "stream",
     "text": [
      "epoch 1, loss 0.0045, train acc 0.556, test acc 0.650\n",
      "epoch 2, loss 0.0023, train acc 0.783, test acc 0.763\n",
      "epoch 3, loss 0.0019, train acc 0.821, test acc 0.822\n",
      "epoch 4, loss 0.0017, train acc 0.839, test acc 0.820\n",
      "epoch 5, loss 0.0016, train acc 0.850, test acc 0.833\n"
     ]
    }
   ],
   "source": [
    "num_epochs,lr,batch_size = 5,100.0,256\n",
    "loss = torch.nn.CrossEntropyLoss()\n",
    "train_iter,test_iter = d2l.load_data_fashion_mnist(batch_size)\n",
    "d2l.train_ch3(net,train_iter,test_iter,loss,num_epochs,batch_size,params,lr)"
   ]
  },
  {
   "cell_type": "markdown",
   "metadata": {},
   "source": [
    "### 简洁实现"
   ]
  },
  {
   "cell_type": "markdown",
   "metadata": {},
   "source": [
    "#### 在pytorch中，我们只需要在全连接层后添加dropout层并指定丢弃概率。在训练模型时，dropout层将以指定的丢弃概率随机丢弃上一层的输出元素，在测试模型时 即model.eval()后，dropout层并不发挥作用"
   ]
  },
  {
   "cell_type": "code",
   "execution_count": 10,
   "metadata": {},
   "outputs": [],
   "source": [
    "net = nn.Sequential(\n",
    "    d2l.FlattenLayer(),\n",
    "    nn.Linear(num_inputs,num_hiddens1),\n",
    "    nn.ReLU(),\n",
    "    nn.Dropout(drop_prob1),\n",
    "    nn.Linear(num_hiddens1,num_hiddens2),\n",
    "    nn.ReLU(),\n",
    "    nn.Dropout(drop_prob2),\n",
    "    nn.Linear(num_hiddens2,10)\n",
    ")\n",
    "for param in net.parameters():\n",
    "    nn.init.normal_(param,mean = 0,std = 0.01)"
   ]
  },
  {
   "cell_type": "markdown",
   "metadata": {},
   "source": [
    "### 下面训练并测试模型"
   ]
  },
  {
   "cell_type": "code",
   "execution_count": 11,
   "metadata": {},
   "outputs": [
    {
     "name": "stdout",
     "output_type": "stream",
     "text": [
      "epoch 1, loss 0.0045, train acc 0.558, test acc 0.750\n",
      "epoch 2, loss 0.0022, train acc 0.786, test acc 0.812\n",
      "epoch 3, loss 0.0019, train acc 0.824, test acc 0.812\n",
      "epoch 4, loss 0.0019, train acc 0.826, test acc 0.804\n",
      "epoch 5, loss 0.0017, train acc 0.844, test acc 0.801\n"
     ]
    }
   ],
   "source": [
    "optimizer = torch.optim.SGD(net.parameters(),lr = 0.5)\n",
    "d2l.train_ch3(net,train_iter,test_iter,loss,num_epochs,batch_size,None,None,optimizer)"
   ]
  }
 ],
 "metadata": {
  "kernelspec": {
   "display_name": "Python 3",
   "language": "python",
   "name": "python3"
  },
  "language_info": {
   "codemirror_mode": {
    "name": "ipython",
    "version": 3
   },
   "file_extension": ".py",
   "mimetype": "text/x-python",
   "name": "python",
   "nbconvert_exporter": "python",
   "pygments_lexer": "ipython3",
   "version": "3.8.3"
  }
 },
 "nbformat": 4,
 "nbformat_minor": 4
}
